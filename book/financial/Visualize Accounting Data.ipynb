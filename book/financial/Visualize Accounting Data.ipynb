{
 "cells": [
  {
   "cell_type": "markdown",
   "id": "a34fd7f2",
   "metadata": {},
   "source": [
    "# Accounting Analysis\n",
    "\n",
    "Inspired by [James' AirTable demo](https://github.com/2i2c-org/dashboard/blob/main/AirTableIntegration.ipynb).\n",
    "\n",
    "This analyses two data streams that represent 2i2c's financial activity.\n",
    "It is meant to be used for both financial analysis and projection, as well as defining a few KPIs for sustainability and efficiency.\n",
    "\n",
    "See [the kpis repository](https://github.com/2i2c-org/kpis) for more information.\n",
    "\n",
    "We have [an Accounting base in AirTable](https://airtable.com/appbjBTRIbgRiElkr) that contains data that we use in these analyses.\n",
    "It is accessed programmatically via an API key.\n",
    "See [these instructions to create an API key for yourself](https://support.airtable.com/docs/creating-a-read-only-api-key)."
   ]
  },
  {
   "cell_type": "markdown",
   "id": "bbe7af4b",
   "metadata": {
    "tags": [
     "remove-cell"
    ]
   },
   "source": [
    "## Connect with our base\n",
    "\n",
    "First we'll connect with our AirTable base via the [pyairtable python package](https://github.com/gtalarico/pyairtable), which is a Python bridge to AirTable's API.\n",
    "See [AirTable IDs docs](https://support.airtable.com/docs/understanding-airtable-ids) for more information about how AirTable bases are structured."
   ]
  },
  {
   "cell_type": "code",
   "execution_count": null,
   "id": "ac5fa4b6",
   "metadata": {
    "tags": [
     "remove-cell"
    ],
    "vscode": {
     "languageId": "python"
    }
   },
   "outputs": [],
   "source": [
    "# Assume the API key is stored as an environment variable\n",
    "import os\n",
    "\n",
    "from pyairtable import Base, Table\n",
    "\n",
    "try:\n",
    "    api_key = os.environ[\"AIRTABLE_API_KEY\"]\n",
    "except:\n",
    "    print(\"Environment variable AIRTABLE_API_KEY not defined\")\n",
    "\n",
    "# Base ID for `Accounting`: https://airtable.com/appbjBTRIbgRiElkr\n",
    "base_id = \"appbjBTRIbgRiElkr\"\n",
    "base = Base(api_key, base_id)"
   ]
  },
  {
   "cell_type": "code",
   "execution_count": null,
   "id": "9470c57b",
   "metadata": {
    "tags": [
     "remove-cell"
    ],
    "vscode": {
     "languageId": "python"
    }
   },
   "outputs": [],
   "source": [
    "# Imports that we'll use later\n",
    "import altair as alt\n",
    "import pandas as pd\n",
    "from IPython.display import Markdown"
   ]
  },
  {
   "cell_type": "markdown",
   "id": "b37e3e59",
   "metadata": {},
   "source": [
    "## Financial summary\n",
    "\n",
    "Provides an overview of our costs, revenue, and burn rate.\n",
    "\n",
    "Our financial summary is generated from CS&S's monthly accounting data dumps. It is less user-friendly than the AirTable data used to define revenue, but has complete cost information, and so we use it to define our own costs and the **Source of Truth** for our financial situation.\n",
    "\n",
    "**What's in this data**. These contain every transaction that 2i2c has ever recorded with CS&S.\n",
    "\n",
    "```{admonition} To update this Table with the latest data\n",
    ":class: dropdown\n",
    "\n",
    "- Go to the [2i2c Financial Statements folder with CS&S](https://drive.google.com/drive/folders/1vM_QX1J8GW5z8W5WemxhhVjcCS2kEovN?usp=share_link) (only accessible to CS&S and 2i2c admins)\n",
    "- Open the latest financial statement (new ones are loaded each month)\n",
    "- In the first tab (`Account Transactions`), copy **all of the records** (excluding header names and footer content). This usually starts on **Row 9**.\n",
    "- Go to [the Accounting Transactions Table](https://airtable.com/appbjBTRIbgRiElkr/tblDKGQFU0iEIa5Qb)\n",
    "- Select **all cells on the table** (`ctrl/cmd + A` as a shortcut)\n",
    "- Paste all of the copied records into this table. From the top, it should look like nothing has changed, but there should now be new records at the bottom.\n",
    "```"
   ]
  },
  {
   "cell_type": "code",
   "execution_count": null,
   "id": "28bd5ff3",
   "metadata": {
    "lines_to_next_cell": 2,
    "tags": [
     "remove-cell"
    ],
    "vscode": {
     "languageId": "python"
    }
   },
   "outputs": [],
   "source": [
    "# All accounting data from CS&S\n",
    "accounts = base.get_table(\"tblDKGQFU0iEIa5Qb\")\n",
    "records = accounts.all()\n",
    "accounts = pd.DataFrame([r[\"fields\"] for r in records])\n",
    "accounts = accounts.rename(columns={\"Debit\": \"Cost\", \"Credit\": \"Revenue\"})\n",
    "accounts[\"Date\"] = pd.to_datetime(accounts[\"Date\"])"
   ]
  },
  {
   "cell_type": "code",
   "execution_count": null,
   "id": "e4570b81",
   "metadata": {
    "tags": [
     "remove-cell"
    ],
    "vscode": {
     "languageId": "python"
    }
   },
   "outputs": [],
   "source": [
    "# Summary of costs and revenue based on the books\n",
    "summary = accounts.copy()[[\"Date\", \"Cost\", \"Revenue\"]]\n",
    "\n",
    "# Calculate the monthly net and cumulative remaining over time\n",
    "summary = summary.resample(\"M\", on=\"Date\").agg(\"sum\").reset_index()\n",
    "summary[\"Net\"] = summary[\"Revenue\"] - summary[\"Cost\"]\n",
    "summary[\"Cumulative\"] = summary[\"Net\"].cumsum()\n",
    "\n",
    "# Flip cost so that it plots upside down\n",
    "summary[\"Cost\"] = -1 * summary[\"Cost\"]\n",
    "\n",
    "# Melt to long form for plotting\n",
    "summary = summary.melt(id_vars=\"Date\", var_name=\"Category\")\n",
    "\n",
    "# Save burn rate for future comparison\n",
    "burn_rate = summary.query(\"Category == 'Net'\")"
   ]
  },
  {
   "cell_type": "code",
   "execution_count": null,
   "id": "8debb0a1",
   "metadata": {
    "tags": [
     "remove-cell"
    ],
    "vscode": {
     "languageId": "python"
    }
   },
   "outputs": [],
   "source": [
    "CHART_WIDTH = 700"
   ]
  },
  {
   "cell_type": "code",
   "execution_count": null,
   "id": "6c887600",
   "metadata": {
    "tags": [
     "remove-input"
    ],
    "vscode": {
     "languageId": "python"
    }
   },
   "outputs": [],
   "source": [
    "latest_summary = summary.set_index(\"Date\")\n",
    "latest_summary = latest_summary.loc[latest_summary.index.max()].replace(\"Cumulative\", \"Cash on Hand\")\n",
    "max_date = latest_summary.index[0]\n",
    "md = f\"Statistics for month: **{max_date:%Y-%m-%d}**\\n\\n\"\n",
    "\n",
    "for _, irow in latest_summary.iterrows():\n",
    "    md += f\"- **{irow['Category']}**: \\${irow['value']:,.0f}\\n\"\n",
    "Markdown(md)"
   ]
  },
  {
   "cell_type": "code",
   "execution_count": null,
   "id": "fffaf7f8",
   "metadata": {
    "tags": [
     "remove-input",
     "remove-stderr"
    ],
    "vscode": {
     "languageId": "python"
    }
   },
   "outputs": [],
   "source": [
    "# Plot net revenue, cumulative, and trend for next 6 months\n",
    "net = alt.Chart(summary.replace({\"Cumulative\": \"Cash on Hand\"}), title=\"Financial Summary\", width=75)\n",
    "yformat = alt.Axis(format=\"$,f\")\n",
    "yscale = alt.Scale(domain=[-200000, 700000])\n",
    "net_br = net.mark_bar().encode(\n",
    "    y=alt.Y(\"value\", scale=yscale, axis=yformat),\n",
    "    x=alt.X(\"Category\", sort=alt.Sort([\"Revenue\", \"Cost\", \"Net\", \"Cash on Hand\"])),\n",
    "    column=alt.Column(\"yearmonth(Date):O\", spacing=5),\n",
    "    tooltip=[\"Category\", \"value\"],\n",
    "    color=alt.Color(\n",
    "        \"Category\",\n",
    "        scale=alt.Scale(\n",
    "            domain=[\"Revenue\", \"Cost\", \"Net\", \"Cash on Hand\"],\n",
    "            range=[\"lightgreen\", \"red\", \"lightgrey\", \"grey\"],\n",
    "        ),\n",
    "    ),\n",
    ").interactive()\n",
    "\n",
    "net_br"
   ]
  },
  {
   "cell_type": "code",
   "execution_count": null,
   "id": "0c745fc0",
   "metadata": {
    "tags": [
     "remove-input",
     "remove-stderr"
    ],
    "vscode": {
     "languageId": "python"
    }
   },
   "outputs": [],
   "source": [
    "# Calculates our number of months cash remaining given our burn rate\n",
    "burn_rate = summary.query(\"Category in ['Net', 'Cumulative']\").pivot(\n",
    "    index=\"Date\", columns=\"Category\", values=\"value\"\n",
    ")\n",
    "burn_rate[\"Net 6mo Median\"] = burn_rate[\"Net\"].rolling(6).median()\n",
    "burn_rate[\"Months Remaining\"] = burn_rate[\"Cumulative\"] / (\n",
    "    -1 * burn_rate[\"Net 6mo Median\"]\n",
    ")\n",
    "\n",
    "months = (\n",
    "    alt.Chart(\n",
    "        burn_rate[\"Months Remaining\"].reset_index(),\n",
    "        width=1050,\n",
    "        title=\"Cash runway (months)\",\n",
    "    )\n",
    "    .mark_line()\n",
    "    .encode(x=\"Date\", y=alt.Y(\"Months Remaining\", scale=alt.Scale(domain=(0, 24))))\n",
    ")\n",
    "line = (\n",
    "    alt.Chart(pd.DataFrame({\"y\": [6]}))\n",
    "    .mark_rule(strokeDash=[10, 10])\n",
    "    .encode(y=alt.Y(\"y\"))\n",
    ")\n",
    "\n",
    "months + line"
   ]
  },
  {
   "cell_type": "markdown",
   "id": "4af02c8e",
   "metadata": {},
   "source": [
    "## Costs\n",
    "\n",
    "Monthly costs broken down by major category.\n",
    "\n",
    "Costs are generated from CS&S's monthly accounting data dumps (see above)."
   ]
  },
  {
   "cell_type": "code",
   "execution_count": null,
   "id": "fb049bcc",
   "metadata": {
    "tags": [
     "remove-cell"
    ],
    "vscode": {
     "languageId": "python"
    }
   },
   "outputs": [],
   "source": [
    "# Drop revenue rows\n",
    "costs = accounts.query(\"Cost > 0\").drop(columns=[\"Revenue\"])\n",
    "\n",
    "KEEP_COST_COLUMNS = [\"Date\", \"Cost\", \"Category\"]\n",
    "\n",
    "# Datetime\n",
    "costs[\"Date\"] = pd.to_datetime(costs[\"Date\"])\n",
    "\n",
    "# Categories our costs for a rough idea\n",
    "for ix, row in costs.iterrows():\n",
    "    if \"other expenses\" in row[\"Account\"].lower():\n",
    "        # For other expenses take the more specific category\n",
    "        kind = row[\"Account\"].split(\":\", 1)[-1]\n",
    "    elif \"professional fees\" in row[\"Account\"].lower():\n",
    "        kind = \"Personnel Costs\"\n",
    "    else:\n",
    "        # Otherwise just take the account section\n",
    "        kind = row[\"Account\"].split(\":\")[0].split(maxsplit=1)[-1]\n",
    "    costs.loc[ix, \"Category\"] = kind\n",
    "\n",
    "# Only keep the columns we want\n",
    "costs = costs[KEEP_COST_COLUMNS]\n",
    "\n",
    "# Add a category so we can compare\n",
    "costs[\"Kind\"] = \"cost\""
   ]
  },
  {
   "cell_type": "code",
   "execution_count": null,
   "id": "7e4d9985",
   "metadata": {
    "tags": [
     "remove-cell",
     "remove-stderr"
    ],
    "vscode": {
     "languageId": "python"
    }
   },
   "outputs": [],
   "source": [
    "# Group by month and aggregate by type\n",
    "cost_by_type = (\n",
    "    costs.groupby([pd.Grouper(key=\"Date\", freq=\"1M\"), \"Category\"])\n",
    "    .sum()\n",
    "    .reset_index()\n",
    "    .query(\"Cost > 0\")\n",
    "    .sort_values(\"Cost\")\n",
    ")\n",
    "\n",
    "# Add sorting values to categories\n",
    "sorted_categories = (\n",
    "    cost_by_type.groupby(\"Category\").sum().sort_values(\"Cost\").index.values\n",
    ")\n",
    "cost_by_type.loc[:, \"Sort\"] = cost_by_type[\"Category\"].map(\n",
    "    lambda a: sorted_categories.tolist().index(a)\n",
    ")"
   ]
  },
  {
   "cell_type": "code",
   "execution_count": null,
   "id": "04a7a6de",
   "metadata": {
    "tags": [
     "remove-input",
     "remove-stderr"
    ],
    "vscode": {
     "languageId": "python"
    }
   },
   "outputs": [],
   "source": [
    "ch = alt.Chart(cost_by_type, width=CHART_WIDTH)\n",
    "ch.mark_bar().encode(\n",
    "    x=\"yearmonth(Date):O\",\n",
    "    y=alt.Y(\n",
    "        \"Cost\",\n",
    "        axis=alt.Axis(\n",
    "            format=\"$,f\",\n",
    "        ),\n",
    "    ),\n",
    "    color=\"Category\",\n",
    "    tooltip=[\"Category\", \"Cost\"],\n",
    ").interactive()"
   ]
  },
  {
   "cell_type": "markdown",
   "id": "5c4d85d2",
   "metadata": {},
   "source": [
    "## Revenue\n",
    "\n",
    "Our revenue data is defined in [the `Invoices` AirTable](https://airtable.com/appbjBTRIbgRiElkr/tblPn2utQBDEQomeq).\n",
    "It is synced from the CS&S AirTable that contains _all invoices for 2i2c_.\n",
    "\n",
    "**What's in this data**. Includes all **invoices** but does not contain some revenue and costs. Excludes payments to employees as well as grant-based payments.\n",
    "\n",
    "```{admonition} To sync this Table with the latest data\n",
    ":class: dropdown\n",
    "\n",
    "- Click on the [`Invoices` table](https://airtable.com/appbjBTRIbgRiElkr/tblPn2utQBDEQomeq)\n",
    "- Click on the downward caret (`v`)\n",
    "- Click on `⚡Sync Now`\n",
    "```"
   ]
  },
  {
   "cell_type": "markdown",
   "id": "e5b94a07",
   "metadata": {
    "tags": [
     "remove-cell"
    ]
   },
   "source": [
    "### Load and process data\n",
    "\n",
    "Load the CS&S invoice data from AirTable as a DataFrame."
   ]
  },
  {
   "cell_type": "code",
   "execution_count": null,
   "id": "8f16ddeb",
   "metadata": {
    "tags": [
     "remove-cell"
    ],
    "vscode": {
     "languageId": "python"
    }
   },
   "outputs": [],
   "source": [
    "# Revenue data from CS&S\n",
    "invoices = base.get_table(\"tblkmferOITqS2vH8\")\n",
    "invoices = invoices.all()\n",
    "invoices = pd.DataFrame([r[\"fields\"] for r in invoices])\n",
    "\n",
    "# Subset the revenue\n",
    "revenue = invoices.query(\"Type == 'ACCREC' and Status == 'PAID'\")"
   ]
  },
  {
   "cell_type": "code",
   "execution_count": null,
   "id": "e421499e",
   "metadata": {
    "tags": [
     "remove-cell"
    ],
    "vscode": {
     "languageId": "python"
    }
   },
   "outputs": [],
   "source": [
    "# Use DateTime\n",
    "revenue[\"Date\"] = revenue[\"Date\"].map(pd.to_datetime)\n",
    "\n",
    "# Convert dollars to numbers\n",
    "numeric_cols = [\"Amount\"]\n",
    "for col in numeric_cols:\n",
    "    revenue[col] = revenue[col].replace(\"[\\$,]\", \"\", regex=True).astype(float)\n",
    "\n",
    "# Iterate through records to make a bunch of row-specific changes\n",
    "for ix, row in revenue.iterrows():\n",
    "    # Categorize as grant, development, or service revenue\n",
    "    if row[\"Restricted Fund\"] == \"2i2c: General\":\n",
    "        # We are a service contract of some kind\n",
    "        if \"GESIS\" in row[\"Contact\"]:\n",
    "            kind = \"Development\"\n",
    "        else:\n",
    "            kind = \"Hub service\"\n",
    "    else:\n",
    "        kind = \"Grant\"\n",
    "\n",
    "    revenue.loc[ix, \"Category\"] = kind\n",
    "\n",
    "# Add a category so we can compare\n",
    "revenue[\"Kind\"] = \"revenue\""
   ]
  },
  {
   "cell_type": "code",
   "execution_count": null,
   "id": "8f893398",
   "metadata": {
    "tags": [
     "remove-input",
     "remove-stderr"
    ],
    "vscode": {
     "languageId": "python"
    }
   },
   "outputs": [],
   "source": [
    "# Group by category and month\n",
    "revenue_monthly = (\n",
    "    revenue.groupby([pd.Grouper(key=\"Date\", freq=\"1M\"), \"Category\", \"Contact\"])\n",
    "    .sum()\n",
    "    .reset_index()\n",
    ")\n",
    "\n",
    "# Only keep contracts so that we visualize contract revenue growth\n",
    "revenue_monthly = revenue_monthly.query(\"Category != 'Grant'\")\n",
    "\n",
    "# Calculate a rolling mean each month\n",
    "revenue_monthly_totals = revenue_monthly.resample(\"M\", on=\"Date\").sum()\n",
    "revenue_monthly_totals_means = revenue_monthly_totals.rolling(3, 1).mean().reset_index()\n",
    "\n",
    "# Print out an average amount\n",
    "Markdown(\n",
    "    f\"3-month average revenue from hub service and development: **${revenue_monthly_totals_means.iloc[-3:]['Amount'].mean():,.2f}**\"\n",
    ")"
   ]
  },
  {
   "cell_type": "code",
   "execution_count": null,
   "id": "2b056fe7",
   "metadata": {
    "tags": [
     "remove-input",
     "remove-stderr"
    ],
    "vscode": {
     "languageId": "python"
    }
   },
   "outputs": [],
   "source": [
    "ch = alt.Chart(revenue_monthly, width=CHART_WIDTH, title=\"Monthly revenue by category (with 3-month average)\")\n",
    "bar = ch.mark_bar().encode(\n",
    "    x=\"yearmonth(Date):O\",\n",
    "    y=\"Amount\",\n",
    "    color=\"Category\",\n",
    "    tooltip=[\"Category\", \"Amount\"],\n",
    ").interactive()\n",
    "\n",
    "ch = alt.Chart(\n",
    "    revenue_monthly_totals_means, width=CHART_WIDTH, title=\"Monthly revenue by category\"\n",
    ")\n",
    "line = ch.mark_line(color=\"black\").encode(\n",
    "    x=\"yearmonth(Date):O\",\n",
    "    y=\"Amount\",\n",
    ")\n",
    "\n",
    "bar + line"
   ]
  },
  {
   "cell_type": "markdown",
   "id": "1a88a67f",
   "metadata": {},
   "source": [
    "Broken down by anonymized paying institution"
   ]
  },
  {
   "cell_type": "code",
   "execution_count": null,
   "id": "9237a560",
   "metadata": {
    "tags": [
     "remove-input",
     "remove-stderr"
    ],
    "vscode": {
     "languageId": "python"
    }
   },
   "outputs": [],
   "source": [
    "unique_names = revenue_monthly[\"Contact\"].unique()\n",
    "sorted_names = (\n",
    "    revenue_monthly.groupby(\"Contact\")\n",
    "    .sum(\"Amount\")\n",
    "    .sort_values(\"Amount\", ascending=False)\n",
    "    .index.values\n",
    ")\n",
    "replacement_names = {\n",
    "    name: f\"Institution {ii:2d}\"\n",
    "    for name, ii in zip(sorted_names, range(1, len(sorted_names) + 1))\n",
    "}\n",
    "\n",
    "ANONYMIZE_NAMES = True\n",
    "if ANONYMIZE_NAMES:\n",
    "    use_data = revenue_monthly.replace(replacement_names)\n",
    "    use_names = list(replacement_names.values())\n",
    "else:\n",
    "    use_data = revenue_monthly\n",
    "    use_names = sorted_names\n",
    "\n",
    "ch = alt.Chart(\n",
    "    use_data,\n",
    "    width=CHART_WIDTH,\n",
    "    title=\"Monthly revenue by payer\",\n",
    ")\n",
    "bar = ch.mark_bar().encode(\n",
    "    x=\"yearmonth(Date):O\",\n",
    "    y=\"Amount\",\n",
    "    color=alt.Color(\n",
    "        \"Contact:O\",\n",
    "        scale=alt.Scale(scheme=\"rainbow\"),\n",
    "        sort=use_names,\n",
    "    ),\n",
    "    order=\"Contact:Q\",\n",
    "    tooltip=[\"Contact\", \"Amount\"]\n",
    ").interactive()\n",
    "bar"
   ]
  }
 ],
 "metadata": {
  "kernelspec": {
   "display_name": "Python 3 (ipykernel)",
   "language": "python",
   "name": "python3"
  }
 },
 "nbformat": 4,
 "nbformat_minor": 5
}

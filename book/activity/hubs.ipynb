{
 "cells": [
  {
   "cell_type": "markdown",
   "id": "98df21f4-cdfc-466b-b114-71f0c6a1f67b",
   "metadata": {},
   "source": [
    "# Running Hubs\n",
    "\n",
    "For now, we do not automatically calculate a list of running hubs here.\n",
    "See our [list of running hubs](https://infrastructure.2i2c.org/en/latest/reference/hubs.html) for the latest table.\n",
    "\n",
    "<iframe src=\"https://infrastructure.2i2c.org/en/latest/reference/hubs.html\" width=\"100%\" height=\"1000\"></iframe>"
   ]
  }
 ],
 "metadata": {
  "kernelspec": {
   "display_name": "Python 3 (ipykernel)",
   "language": "python",
   "name": "python3"
  },
  "language_info": {
   "codemirror_mode": {
    "name": "ipython",
    "version": 3
   },
   "file_extension": ".py",
   "mimetype": "text/x-python",
   "name": "python",
   "nbconvert_exporter": "python",
   "pygments_lexer": "ipython3",
   "version": "3.9.7"
  }
 },
 "nbformat": 4,
 "nbformat_minor": 5
}
